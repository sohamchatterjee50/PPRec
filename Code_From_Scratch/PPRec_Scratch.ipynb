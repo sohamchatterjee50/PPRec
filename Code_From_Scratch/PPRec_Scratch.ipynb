{
 "cells": [
  {
   "cell_type": "code",
   "execution_count": null,
   "metadata": {},
   "outputs": [],
   "source": [
    "# Constants #\n",
    "\n",
    "# BEHAVIORS\n",
    "DEFAULT_IMPRESSION_TIMESTAMP_COL = \"impression_time\"\n",
    "DEFAULT_SCROLL_PERCENTAGE_COL = \"scroll_percentage\"\n",
    "DEFAULT_CLICKED_ARTICLES_COL = \"article_ids_clicked\"\n",
    "DEFAULT_INVIEW_ARTICLES_COL = \"article_ids_inview\"\n",
    "DEFAULT_IMPRESSION_ID_COL = \"impression_id\"\n",
    "DEFAULT_IS_SUBSCRIBER_COL = \"is_subscriber\"\n",
    "DEFAULT_IS_SSO_USER_COL = \"is_sso_user\"\n",
    "DEFAULT_ARTICLE_ID_COL = \"article_id\"\n",
    "DEFAULT_SESSION_ID_COL = \"session_id\"\n",
    "DEFAULT_READ_TIME_COL = \"read_time\"\n",
    "DEFAULT_DEVICE_COL = \"device_type\"\n",
    "DEFAULT_POSTCODE_COL = \"postcode\"\n",
    "DEFAULT_GENDER_COL = \"gender\"\n",
    "DEFAULT_USER_COL = \"user_id\"\n",
    "DEFAULT_AGE_COL = \"age\"\n",
    "\n",
    "DEFAULT_NEXT_SCROLL_PERCENTAGE_COL = f\"next_{DEFAULT_SCROLL_PERCENTAGE_COL}\"\n",
    "DEFAULT_NEXT_READ_TIME_COL = f\"next_{DEFAULT_READ_TIME_COL}\"\n",
    "\n",
    "# ARTICLES\n",
    "DEFAULT_ARTICLE_MODIFIED_TIMESTAMP_COL = \"last_modified_time\"\n",
    "DEFAULT_ARTICLE_PUBLISHED_TIMESTAMP_COL = \"published_time\"\n",
    "DEFAULT_SENTIMENT_LABEL_COL = \"sentiment_label\"\n",
    "DEFAULT_SENTIMENT_SCORE_COL = \"sentiment_score\"\n",
    "DEFAULT_TOTAL_READ_TIME_COL = \"total_read_time\"\n",
    "DEFAULT_TOTAL_PAGEVIEWS_COL = \"total_pageviews\"\n",
    "DEFAULT_TOTAL_INVIEWS_COL = \"total_inviews\"\n",
    "DEFAULT_ARTICLE_TYPE_COL = \"article_type\"\n",
    "DEFAULT_CATEGORY_STR_COL = \"category_str\"\n",
    "DEFAULT_SUBCATEGORY_COL = \"subcategory\"\n",
    "DEFAULT_ENTITIES_COL = \"entity_groups\"\n",
    "DEFAULT_IMAGE_IDS_COL = \"image_ids\"\n",
    "DEFAULT_SUBTITLE_COL = \"subtitle\"\n",
    "DEFAULT_CATEGORY_COL = \"category\"\n",
    "DEFAULT_NER_COL = \"ner_clusters\"\n",
    "DEFAULT_PREMIUM_COL = \"premium\"\n",
    "DEFAULT_TOPICS_COL = \"topics\"\n",
    "DEFAULT_TITLE_COL = \"title\"\n",
    "DEFAULT_BODY_COL = \"body\"\n",
    "DEFAULT_URL_COL = \"url\"\n",
    "\n",
    "# HISTORY\n",
    "DEFAULT_HISTORY_IMPRESSION_TIMESTAMP_COL = f\"{DEFAULT_IMPRESSION_TIMESTAMP_COL}_fixed\"\n",
    "DEFAULT_HISTORY_SCROLL_PERCENTAGE_COL = f\"{DEFAULT_SCROLL_PERCENTAGE_COL}_fixed\"\n",
    "DEFAULT_HISTORY_ARTICLE_ID_COL = f\"{DEFAULT_ARTICLE_ID_COL}_fixed\"\n",
    "DEFAULT_HISTORY_READ_TIME_COL = f\"{DEFAULT_READ_TIME_COL}_fixed\"\n",
    "\n",
    "# CREATE\n",
    "DEFAULT_KNOWN_USER_COL = \"is_known_user\"\n",
    "DEFAULT_LABELS_COL = \"labels\"\n"
   ]
  },
  {
   "cell_type": "code",
   "execution_count": null,
   "metadata": {},
   "outputs": [],
   "source": []
  },
  {
   "cell_type": "code",
   "execution_count": null,
   "metadata": {},
   "outputs": [],
   "source": []
  },
  {
   "cell_type": "code",
   "execution_count": null,
   "metadata": {},
   "outputs": [],
   "source": []
  },
  {
   "cell_type": "code",
   "execution_count": null,
   "metadata": {},
   "outputs": [],
   "source": []
  },
  {
   "cell_type": "code",
   "execution_count": null,
   "metadata": {},
   "outputs": [],
   "source": []
  },
  {
   "cell_type": "code",
   "execution_count": null,
   "metadata": {},
   "outputs": [],
   "source": []
  },
  {
   "cell_type": "code",
   "execution_count": null,
   "metadata": {},
   "outputs": [],
   "source": []
  }
 ],
 "metadata": {
  "language_info": {
   "name": "python"
  }
 },
 "nbformat": 4,
 "nbformat_minor": 2
}
