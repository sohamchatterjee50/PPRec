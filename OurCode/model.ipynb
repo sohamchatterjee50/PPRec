{
 "cells": [
  {
   "cell_type": "code",
   "execution_count": 83,
   "metadata": {},
   "outputs": [
    {
     "name": "stdout",
     "output_type": "stream",
     "text": [
      "The autoreload extension is already loaded. To reload it, use:\n",
      "  %reload_ext autoreload\n"
     ]
    }
   ],
   "source": [
    "%load_ext autoreload\n",
    "%autoreload 2\n",
    "\n",
    "\n",
    "from src.model.config import CONFIG_IN_IMPLEMENTATION, CONFIG_IN_PAPER\n",
    "from src.model.pprec import PPRec\n",
    "from src.data.train import EBNeRDTrainDataset\n",
    "\n",
    "\n",
    "import torch\n",
    "from torch.utils.data import DataLoader\n",
    "import numpy as np"
   ]
  },
  {
   "cell_type": "markdown",
   "metadata": {},
   "source": [
    "Some data for testing\n"
   ]
  },
  {
   "cell_type": "code",
   "execution_count": 84,
   "metadata": {},
   "outputs": [],
   "source": [
    "dataset = EBNeRDTrainDataset()"
   ]
  },
  {
   "cell_type": "markdown",
   "metadata": {},
   "source": [
    "Configuration of the model"
   ]
  },
  {
   "cell_type": "code",
   "execution_count": 85,
   "metadata": {},
   "outputs": [],
   "source": [
    "max_clicked = 50\n",
    "\n",
    "model = PPRec(\n",
    "    max_clicked=max_clicked,\n",
    "    device=torch.device(\"cpu\"),\n",
    "    config=CONFIG_IN_IMPLEMENTATION,\n",
    "    # config=CONFIG_IN_PAPER\n",
    ")"
   ]
  },
  {
   "cell_type": "code",
   "execution_count": 86,
   "metadata": {},
   "outputs": [],
   "source": [
    "batch_size = 32\n",
    "candidate_size = 4\n",
    "\n",
    "candidates = PPRec.CandidateBatch(\n",
    "    ids=np.array(\n",
    "        [\n",
    "            [dataset.split.get_random_article_id() for _ in range(candidate_size)]\n",
    "            for _ in range(batch_size)\n",
    "        ]\n",
    "    ),\n",
    "    ctr=torch.rand(batch_size, candidate_size),\n",
    "    recencies=torch.rand(batch_size, candidate_size),\n",
    ")\n",
    "\n",
    "user_clicks = PPRec.ClicksBatch(\n",
    "    ids=np.array(\n",
    "        [\n",
    "            [dataset.split.get_random_article_id() for _ in range(max_clicked)]\n",
    "            for _ in range(batch_size)\n",
    "        ]\n",
    "    ),\n",
    "    ctr=torch.rand(batch_size, max_clicked),\n",
    ")"
   ]
  },
  {
   "cell_type": "code",
   "execution_count": 87,
   "metadata": {},
   "outputs": [
    {
     "data": {
      "text/plain": [
       "(torch.Size([32, 4]), torch.Size([32, 4]), torch.Size([32, 4]))"
      ]
     },
     "execution_count": 87,
     "metadata": {},
     "output_type": "execute_result"
    }
   ],
   "source": [
    "# Works with random inputs!\n",
    "result = model(PPRec.Inputs(clicks=user_clicks, candidates=candidates))\n",
    "result.personalized_matching_score.shape, result.popularity_score.shape, result.score.shape"
   ]
  },
  {
   "cell_type": "code",
   "execution_count": 88,
   "metadata": {},
   "outputs": [],
   "source": [
    "# Just gotta finish the dataset in src.models.train\n",
    "dataloader = DataLoader(dataset, batch_size=batch_size, shuffle=True, collate_fn=dataset.collate_fn)"
   ]
  },
  {
   "cell_type": "code",
   "execution_count": 89,
   "metadata": {},
   "outputs": [
    {
     "data": {
      "text/plain": [
       "1629116"
      ]
     },
     "execution_count": 89,
     "metadata": {},
     "output_type": "execute_result"
    }
   ],
   "source": [
    "sum(p.numel() for p in model.parameters() if p.requires_grad)"
   ]
  },
  {
   "cell_type": "code",
   "execution_count": 90,
   "metadata": {},
   "outputs": [],
   "source": [
    "for batch in dataloader:\n",
    "    inputs = model.preprocess_train_batch(batch)\n",
    "    predictions = model(inputs)\n",
    "    break"
   ]
  },
  {
   "cell_type": "code",
   "execution_count": null,
   "metadata": {},
   "outputs": [],
   "source": []
  },
  {
   "cell_type": "code",
   "execution_count": null,
   "metadata": {},
   "outputs": [],
   "source": []
  },
  {
   "cell_type": "code",
   "execution_count": null,
   "metadata": {},
   "outputs": [],
   "source": []
  }
 ],
 "metadata": {
  "kernelspec": {
   "display_name": "recsys",
   "language": "python",
   "name": "python3"
  },
  "language_info": {
   "codemirror_mode": {
    "name": "ipython",
    "version": 3
   },
   "file_extension": ".py",
   "mimetype": "text/x-python",
   "name": "python",
   "nbconvert_exporter": "python",
   "pygments_lexer": "ipython3",
   "version": "3.10.14"
  }
 },
 "nbformat": 4,
 "nbformat_minor": 2
}
