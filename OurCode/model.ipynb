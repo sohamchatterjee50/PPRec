{
 "cells": [
  {
   "cell_type": "code",
   "execution_count": 12,
   "metadata": {},
   "outputs": [
    {
     "name": "stdout",
     "output_type": "stream",
     "text": [
      "The autoreload extension is already loaded. To reload it, use:\n",
      "  %reload_ext autoreload\n"
     ]
    }
   ],
   "source": [
    "%load_ext autoreload\n",
    "%autoreload 2\n",
    "\n",
    "\n",
    "from src.model.configs import CONFIG_IN_IMPLEMENTATION, CONFIG_IN_PAPER, MINIMAL_CONFIG\n",
    "from src.model.pprec import PPRec\n",
    "from src.data.dataset import EBNeRDTrainDataset\n",
    "from src.data.split import EBNeRDSplit\n",
    "from src.training.loss import BPRPairwiseLoss\n",
    "\n",
    "\n",
    "import torch\n",
    "from torch.utils.data import DataLoader\n",
    "import numpy as np"
   ]
  },
  {
   "cell_type": "markdown",
   "metadata": {},
   "source": [
    "Some data for testing\n"
   ]
  },
  {
   "cell_type": "code",
   "execution_count": 55,
   "metadata": {},
   "outputs": [],
   "source": [
    "split = EBNeRDSplit()\n",
    "dataset = EBNeRDTrainDataset(split=split)"
   ]
  },
  {
   "cell_type": "markdown",
   "metadata": {},
   "source": [
    "Configuration of the model"
   ]
  },
  {
   "cell_type": "code",
   "execution_count": 49,
   "metadata": {},
   "outputs": [],
   "source": [
    "max_clicked = 50\n",
    "\n",
    "model = PPRec(\n",
    "    max_clicked=max_clicked,\n",
    "    device=torch.device(\"cpu\"),\n",
    "    # config=CONFIG_IN_IMPLEMENTATION,\n",
    "    # config=CONFIG_IN_PAPER\n",
    "    config=MINIMAL_CONFIG\n",
    ")"
   ]
  },
  {
   "cell_type": "code",
   "execution_count": 50,
   "metadata": {},
   "outputs": [],
   "source": [
    "batch_size = 32\n",
    "candidate_size = 4\n",
    "\n",
    "candidates = PPRec.CandidateBatch(\n",
    "    ids=np.array(\n",
    "        [\n",
    "            [dataset.split.get_random_article_id() for _ in range(candidate_size)]\n",
    "            for _ in range(batch_size)\n",
    "        ]\n",
    "    ),\n",
    "    ctr=torch.rand(batch_size, candidate_size),\n",
    "    recencies=torch.rand(batch_size, candidate_size),\n",
    ")\n",
    "\n",
    "user_clicks = PPRec.ClicksBatch(\n",
    "    ids=np.array(\n",
    "        [\n",
    "            [dataset.split.get_random_article_id() for _ in range(max_clicked)]\n",
    "            for _ in range(batch_size)\n",
    "        ]\n",
    "    ),\n",
    "    ctr=torch.rand(batch_size, max_clicked),\n",
    ")"
   ]
  },
  {
   "cell_type": "code",
   "execution_count": 51,
   "metadata": {},
   "outputs": [
    {
     "data": {
      "text/plain": [
       "(torch.Size([32, 4]), torch.Size([32, 4]), torch.Size([32, 4]))"
      ]
     },
     "execution_count": 51,
     "metadata": {},
     "output_type": "execute_result"
    }
   ],
   "source": [
    "# Works with random inputs!\n",
    "result = model(PPRec.Inputs(clicks=user_clicks, candidates=candidates))\n",
    "result.personalized_matching_score.shape, result.popularity_score.shape, result.score.shape"
   ]
  },
  {
   "cell_type": "code",
   "execution_count": 52,
   "metadata": {},
   "outputs": [
    {
     "data": {
      "text/plain": [
       "178416"
      ]
     },
     "execution_count": 52,
     "metadata": {},
     "output_type": "execute_result"
    }
   ],
   "source": [
    "sum(p.numel() for p in model.parameters() if p.requires_grad)"
   ]
  },
  {
   "cell_type": "code",
   "execution_count": 53,
   "metadata": {},
   "outputs": [],
   "source": [
    "dataloader = DataLoader(dataset, batch_size=batch_size, shuffle=True, collate_fn=dataset.collate_fn)\n",
    "loss = BPRPairwiseLoss()"
   ]
  },
  {
   "cell_type": "code",
   "execution_count": 54,
   "metadata": {},
   "outputs": [],
   "source": [
    "# Works with dataloader and loss!\n",
    "for batch in dataloader:\n",
    "    inputs = loss.preprocess_train_batch(batch, max_clicked=max_clicked)\n",
    "    predictions = model(inputs)\n",
    "    loss_value = loss(predictions)\n",
    "    loss_value.backward()\n",
    "    break"
   ]
  },
  {
   "cell_type": "code",
   "execution_count": null,
   "metadata": {},
   "outputs": [],
   "source": []
  },
  {
   "cell_type": "code",
   "execution_count": null,
   "metadata": {},
   "outputs": [],
   "source": []
  },
  {
   "cell_type": "code",
   "execution_count": null,
   "metadata": {},
   "outputs": [],
   "source": []
  },
  {
   "cell_type": "code",
   "execution_count": null,
   "metadata": {},
   "outputs": [],
   "source": []
  }
 ],
 "metadata": {
  "kernelspec": {
   "display_name": "recsys",
   "language": "python",
   "name": "python3"
  },
  "language_info": {
   "codemirror_mode": {
    "name": "ipython",
    "version": 3
   },
   "file_extension": ".py",
   "mimetype": "text/x-python",
   "name": "python",
   "nbconvert_exporter": "python",
   "pygments_lexer": "ipython3",
   "version": "3.10.14"
  }
 },
 "nbformat": 4,
 "nbformat_minor": 2
}
