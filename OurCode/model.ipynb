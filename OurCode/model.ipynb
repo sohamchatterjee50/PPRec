{
 "cells": [
  {
   "cell_type": "code",
   "execution_count": 4,
   "metadata": {},
   "outputs": [],
   "source": [
    "%load_ext autoreload\n",
    "%autoreload 2\n",
    "\n",
    "from src.model.news_encoder import LNEConfig\n",
    "from src.model.user_encoder import CPJAConfig, PEConfig,NSAConfig,PAUEConfig\n",
    "from src.model.popularity_predictor import TANPPConfig, CRGConfig, CBPDConfig, RBPDConfig, REConfig\n",
    "from src.model.pprec import PPRConfig, PAGConfig, PPRec\n",
    "\n",
    "from src.data.split import EBNeRDSplit\n",
    "\n",
    "import torch"
   ]
  },
  {
   "cell_type": "code",
   "execution_count": 2,
   "metadata": {},
   "outputs": [
    {
     "name": "stdout",
     "output_type": "stream",
     "text": [
      "/Users/sohamchatterjee/Documents/UvA/RecSYS/Project/ebnerd_data\n"
     ]
    }
   ],
   "source": [
    "import os\n",
    "\n",
    "# Set an environment variable\n",
    "os.environ['PPREC_DATA_FOLDER'] =  '/Users/sohamchatterjee/Documents/UvA/RecSYS/Project/ebnerd_data'\n",
    "print(os.environ.get(\"PPREC_DATA_FOLDER\"))\n"
   ]
  },
  {
   "cell_type": "markdown",
   "metadata": {},
   "source": [
    "Some data for testing\n"
   ]
  },
  {
   "cell_type": "code",
   "execution_count": 6,
   "metadata": {},
   "outputs": [],
   "source": [
    "split = EBNeRDSplit()"
   ]
  },
  {
   "cell_type": "markdown",
   "metadata": {},
   "source": [
    "Configuration of the model"
   ]
  },
  {
   "cell_type": "code",
   "execution_count": 7,
   "metadata": {},
   "outputs": [],
   "source": [
    "# This depeneds on how were going to make the dataloader\n",
    "max_clicked_articles_in_history = 50\n",
    "\n",
    "# This is the config we can do experiments with.\n",
    "# Any configuration should work. For instance\n",
    "# size_n in the user news encoder doesnt have to\n",
    "# match the one in the popularity news encoder.\n",
    "# I filled it in the way they implemented it.\n",
    "# Apart from the news encoder of course, which\n",
    "# is still using the embeddings from the artifacts.\n",
    "pprec_config = PPRConfig(\n",
    "    user_news_encoder_config=LNEConfig(size_n=400, model=\"bert\"),\n",
    "    popularity_news_encoder_config=LNEConfig(size_n=400, model=\"bert\"),\n",
    "    user_encoder_config=PAUEConfig(\n",
    "        popularity_embedding_config=PEConfig(\n",
    "            size_p=100,\n",
    "            max_ctr=200,\n",
    "        ),\n",
    "        news_self_attention_config=NSAConfig(\n",
    "            n_attention_heads=20,\n",
    "            head_output_size=20,\n",
    "        ),\n",
    "        content_popularity_joint_attention_config=CPJAConfig(weight_size=100),\n",
    "    ),\n",
    "    popularity_predictor_config=TANPPConfig(\n",
    "        recency_based_popularity_dense_config=RBPDConfig(),\n",
    "        content_based_popularity_dense_config=CBPDConfig(),\n",
    "        recency_embedding_config=REConfig(\n",
    "            r_size=100,\n",
    "            max_recency=1500,\n",
    "        ),\n",
    "        content_recency_gate_config=CRGConfig(),\n",
    "    ),\n",
    "    aggregator_gate_config=PAGConfig(),\n",
    ")"
   ]
  },
  {
   "cell_type": "code",
   "execution_count": 8,
   "metadata": {},
   "outputs": [],
   "source": [
    "model = PPRec(\n",
    "    max_clicked=max_clicked_articles_in_history,\n",
    "    device=torch.device(\"cpu\"),\n",
    "    config=pprec_config,\n",
    ")"
   ]
  },
  {
   "cell_type": "code",
   "execution_count": 9,
   "metadata": {},
   "outputs": [
    {
     "name": "stdout",
     "output_type": "stream",
     "text": [
      "PPRec(\n",
      "  (user_news_encoder): LookupNewsEncoder(\n",
      "    (fcout): Linear(in_features=768, out_features=400, bias=True)\n",
      "  )\n",
      "  (popularity_news_encoder): LookupNewsEncoder(\n",
      "    (fcout): Linear(in_features=768, out_features=400, bias=True)\n",
      "  )\n",
      "  (popularity_predictor): TimeAwareNewsPopularityPredictor(\n",
      "    (recency_embedding): RecencyEmbedding(\n",
      "      (embedding): Embedding(1500, 100)\n",
      "    )\n",
      "    (recency_based_popularity_dense): RecencyBasedPopularityDense(\n",
      "      (dense): Linear(in_features=100, out_features=1, bias=True)\n",
      "    )\n",
      "    (content_based_popularity_dense): ContentBasedPopularityDense(\n",
      "      (dense): Linear(in_features=400, out_features=1, bias=True)\n",
      "    )\n",
      "    (content_recency_gate): ContentRecencyGate()\n",
      "  )\n",
      "  (user_encoder): PopularityAwareUserEncoder(\n",
      "    (popularity_embedding): PopularityEmbedding(\n",
      "      (embedding): Embedding(200, 100)\n",
      "    )\n",
      "    (news_self_attention): NewsSelfAttention()\n",
      "    (content_popularity_joint_attention): ContentPopularityJointAttention()\n",
      "  )\n",
      "  (aggregator_gate): PersonalizedAggregatorGate(\n",
      "    (linear): Linear(in_features=400, out_features=1, bias=True)\n",
      "  )\n",
      ")\n"
     ]
    }
   ],
   "source": [
    "print(model)"
   ]
  },
  {
   "cell_type": "code",
   "execution_count": null,
   "metadata": {},
   "outputs": [],
   "source": []
  }
 ],
 "metadata": {
  "kernelspec": {
   "display_name": "recsys",
   "language": "python",
   "name": "python3"
  },
  "language_info": {
   "codemirror_mode": {
    "name": "ipython",
    "version": 3
   },
   "file_extension": ".py",
   "mimetype": "text/x-python",
   "name": "python",
   "nbconvert_exporter": "python",
   "pygments_lexer": "ipython3",
   "version": "3.11.9"
  }
 },
 "nbformat": 4,
 "nbformat_minor": 2
}
