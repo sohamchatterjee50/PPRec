{
 "cells": [
  {
   "cell_type": "code",
   "execution_count": null,
   "metadata": {},
   "outputs": [],
   "source": [
    "%load_ext autoreload\n",
    "%autoreload 2\n",
    "\n",
    "from src.model.news_encoder import LNEConfig\n",
    "from src.model.user_encoder import CPJAConfig, PEConfig,NSAConfig,PAUEConfig\n",
    "from src.model.popularity_predictor import TANPPConfig, CRGConfig, CBPDConfig, RBPDConfig, REConfig\n",
    "from src.model.pprec import PPRConfig, PAGConfig, PPRec\n",
    "\n",
    "from src.data.split import EBNeRDSplit\n",
    "from src.data.train import EBNeRDTrainDataset\n",
    "\n",
    "import torch\n",
    "from torch.utils.data import DataLoader\n",
    "import numpy as np"
   ]
  },
  {
   "cell_type": "markdown",
   "metadata": {},
   "source": [
    "Some data for testing\n"
   ]
  },
  {
   "cell_type": "code",
   "execution_count": null,
   "metadata": {},
   "outputs": [],
   "source": [
    "dataset = EBNeRDTrainDataset()"
   ]
  },
  {
   "cell_type": "markdown",
   "metadata": {},
   "source": [
    "Configuration of the model"
   ]
  },
  {
   "cell_type": "code",
   "execution_count": null,
   "metadata": {},
   "outputs": [],
   "source": [
    "# This depeneds on how were going to make the dataloader\n",
    "max_clicked = 50\n",
    "\n",
    "# This is the config we can do experiments with.\n",
    "# Any configuration should work. For instance\n",
    "# size_n in the user news encoder doesnt have to\n",
    "# match the one in the popularity news encoder.\n",
    "# I filled it in the way they implemented it.\n",
    "# Apart from the news encoder of course, which\n",
    "# is still using the embeddings from the artifacts.\n",
    "pprec_config = PPRConfig(\n",
    "    user_news_encoder_config=LNEConfig(size_n=400, model=\"bert\"),\n",
    "    popularity_news_encoder_config=LNEConfig(size_n=400, model=\"bert\"),\n",
    "    user_encoder_config=PAUEConfig(\n",
    "        popularity_embedding_config=PEConfig(\n",
    "            size_p=100,\n",
    "            max_ctr=200,\n",
    "        ),\n",
    "        news_self_attention_config=NSAConfig(\n",
    "            n_attention_heads=20,\n",
    "            head_output_size=20,\n",
    "        ),\n",
    "        content_popularity_joint_attention_config=CPJAConfig(weight_size=100),\n",
    "    ),\n",
    "    popularity_predictor_config=TANPPConfig(\n",
    "        recency_based_popularity_dense_config=RBPDConfig(hidden_layers=[256, 128]),\n",
    "        content_based_popularity_dense_config=CBPDConfig(hidden_layers=[256, 128]),\n",
    "        recency_embedding_config=REConfig(\n",
    "            r_size=100,\n",
    "            max_recency=1500,\n",
    "            recency_factor=0.5,\n",
    "        ),\n",
    "        content_recency_gate_config=CRGConfig(hidden_layers=[256, 128]),\n",
    "    ),\n",
    "    aggregator_gate_config=PAGConfig(hidden_layers=[256, 128]),\n",
    ")"
   ]
  },
  {
   "cell_type": "code",
   "execution_count": null,
   "metadata": {},
   "outputs": [],
   "source": [
    "model = PPRec(\n",
    "    max_clicked=max_clicked,\n",
    "    device=torch.device(\"cpu\"),\n",
    "    config=pprec_config,\n",
    ")"
   ]
  },
  {
   "cell_type": "code",
   "execution_count": null,
   "metadata": {},
   "outputs": [],
   "source": [
    "batch_size = 32\n",
    "\n",
    "\n",
    "candidates = PPRec.CandidateBatch(\n",
    "    ids=np.array([dataset.split.get_random_article_id() for _ in range(batch_size)]),\n",
    "    ctr=torch.rand(batch_size),\n",
    "    recencies=torch.rand(batch_size),\n",
    ")\n",
    "\n",
    "user_clicks = PPRec.ClicksBatch(\n",
    "    ids=np.array(\n",
    "        [\n",
    "            [dataset.split.get_random_article_id() for _ in range(max_clicked)]\n",
    "            for _ in range(batch_size)\n",
    "        ]\n",
    "    ),\n",
    "    ctr=torch.rand(batch_size, max_clicked),\n",
    ")"
   ]
  },
  {
   "cell_type": "code",
   "execution_count": null,
   "metadata": {},
   "outputs": [],
   "source": [
    "# Works with random inputs!\n",
    "scores, user_scores, popularity_scores = model(candidates=candidates, clicks=user_clicks)"
   ]
  },
  {
   "cell_type": "code",
   "execution_count": null,
   "metadata": {},
   "outputs": [],
   "source": [
    "# Just gotta finish the dataset in src.models.train\n",
    "dataloader = DataLoader(dataset, batch_size=batch_size, shuffle=True, collate_fn=dataset.collate_fn)"
   ]
  },
  {
   "cell_type": "code",
   "execution_count": null,
   "metadata": {},
   "outputs": [],
   "source": [
    "for i in dataloader:\n",
    "    print(i)\n",
    "    break"
   ]
  },
  {
   "cell_type": "code",
   "execution_count": null,
   "metadata": {},
   "outputs": [],
   "source": []
  }
 ],
 "metadata": {
  "kernelspec": {
   "display_name": "recsys",
   "language": "python",
   "name": "python3"
  },
  "language_info": {
   "codemirror_mode": {
    "name": "ipython",
    "version": 3
   },
   "file_extension": ".py",
   "mimetype": "text/x-python",
   "name": "python",
   "nbconvert_exporter": "python",
   "pygments_lexer": "ipython3",
   "version": "3.10.14"
  }
 },
 "nbformat": 4,
 "nbformat_minor": 2
}
